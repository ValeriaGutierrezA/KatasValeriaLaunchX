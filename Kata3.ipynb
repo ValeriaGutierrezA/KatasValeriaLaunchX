{
 "cells": [
  {
   "cell_type": "code",
   "execution_count": 1,
   "metadata": {},
   "outputs": [
    {
     "name": "stdout",
     "output_type": "stream",
     "text": [
      "12\n"
     ]
    }
   ],
   "source": [
    "a = 12\n",
    "b = 27 \n",
    "if a < b:\n",
    "    print(a)"
   ]
  },
  {
   "cell_type": "code",
   "execution_count": 4,
   "metadata": {},
   "outputs": [
    {
     "name": "stdout",
     "output_type": "stream",
     "text": [
      "89\n",
      "74\n"
     ]
    }
   ],
   "source": [
    "a = 89\n",
    "b = 74\n",
    "c = 32\n",
    "if a > b:\n",
    "    print(a)\n",
    "    if c > b:\n",
    "        print(c)\n",
    "    else:\n",
    "        print(b)\n",
    "elif a < b:\n",
    "    print(a)\n",
    "else:\n",
    "    print(b)"
   ]
  },
  {
   "cell_type": "code",
   "execution_count": 17,
   "metadata": {},
   "outputs": [
    {
     "name": "stdout",
     "output_type": "stream",
     "text": [
      "cuidao\n"
     ]
    }
   ],
   "source": [
    "asteroide = 49\n",
    "if asteroide > 25: \n",
    "    print('cuidao')\n",
    "else:\n",
    "    print('Te la creiste')\n"
   ]
  },
  {
   "cell_type": "code",
   "execution_count": 6,
   "metadata": {},
   "outputs": [
    {
     "name": "stdout",
     "output_type": "stream",
     "text": [
      ":(\n"
     ]
    }
   ],
   "source": [
    "asteroide = 19\n",
    "rayo = 20\n",
    "if asteroide >= 20:\n",
    "    print('¡se ve!')\n",
    "else:\n",
    "    print(':(')"
   ]
  },
  {
   "cell_type": "code",
   "execution_count": 10,
   "metadata": {},
   "outputs": [],
   "source": [
    "velocidad_asteroides = 25\n",
    "daño = 1000\n",
    "rayo = 20\n",
    "if velocidad_asteroides < 25:\n",
    "    print ('no causa daño')\n",
    "    if velocidad_asteroides > 25 and daño < 1000: \n",
    "        print(velocidad_asteroides + daño)\n",
    "if velocidad_asteroides > 25 or rayo > 20:\n",
    "    print('¡se ve!')\n"
   ]
  }
 ],
 "metadata": {
  "interpreter": {
   "hash": "ad5b722e30293428b76bd648944f3a0c597500c9ffc8ca7f828a7eaa5f9aa45f"
  },
  "kernelspec": {
   "display_name": "Python 3.10.2 64-bit",
   "language": "python",
   "name": "python3"
  },
  "language_info": {
   "codemirror_mode": {
    "name": "ipython",
    "version": 3
   },
   "file_extension": ".py",
   "mimetype": "text/x-python",
   "name": "python",
   "nbconvert_exporter": "python",
   "pygments_lexer": "ipython3",
   "version": "3.10.2"
  },
  "orig_nbformat": 4
 },
 "nbformat": 4,
 "nbformat_minor": 2
}
