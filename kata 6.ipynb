{
 "cells": [
  {
   "cell_type": "code",
   "execution_count": 1,
   "metadata": {},
   "outputs": [
    {
     "name": "stdout",
     "output_type": "stream",
     "text": [
      "there are 8 planets in the solar system\n"
     ]
    }
   ],
   "source": [
    "planets = ['mercurio', 'venus', 'tierra', 'marte', 'jupiter', 'saturno', 'urano', 'neptuno']\n",
    "print('there are', len(planets), 'planets in the solar system')"
   ]
  },
  {
   "cell_type": "code",
   "execution_count": 6,
   "metadata": {},
   "outputs": [
    {
     "name": "stdout",
     "output_type": "stream",
     "text": [
      "pluton is the last planet in the 12 planets of the solar system\n"
     ]
    }
   ],
   "source": [
    "planets.append('pluton')\n",
    "print(planets[-1], 'is the last planet in the', len(planets), 'planets of the solar system')"
   ]
  },
  {
   "cell_type": "code",
   "execution_count": 1,
   "metadata": {},
   "outputs": [],
   "source": [
    "planets = ['mercurio', 'venus', 'tierra', 'marte', 'jupiter', 'saturno', 'urano', 'neptuno']"
   ]
  },
  {
   "cell_type": "code",
   "execution_count": 5,
   "metadata": {},
   "outputs": [],
   "source": [
    "planeta = input('marte')"
   ]
  },
  {
   "cell_type": "code",
   "execution_count": 3,
   "metadata": {},
   "outputs": [
    {
     "name": "stdout",
     "output_type": "stream",
     "text": [
      "marte is the 4 planet away from the sun\n"
     ]
    }
   ],
   "source": [
    "marte_index = planets.index('marte')\n",
    "print('marte is the', marte_index + 1, 'planet away from the sun')"
   ]
  },
  {
   "cell_type": "code",
   "execution_count": 9,
   "metadata": {},
   "outputs": [
    {
     "name": "stdout",
     "output_type": "stream",
     "text": [
      "aqui estan los planetas mas cercanos al sol\n",
      "['mercurio', 'venus', 'tierra']\n"
     ]
    }
   ],
   "source": [
    "print('aqui estan los planetas mas cercanos al sol' + planeta)\n",
    "print(planets[0:marte_index])"
   ]
  },
  {
   "cell_type": "code",
   "execution_count": 10,
   "metadata": {},
   "outputs": [
    {
     "name": "stdout",
     "output_type": "stream",
     "text": [
      "aqui estan los planetas mas lejanos al sol\n",
      "['jupiter', 'saturno', 'urano', 'neptuno']\n"
     ]
    }
   ],
   "source": [
    "print('aqui estan los planetas mas lejanos al sol' + planeta)\n",
    "print(planets[marte_index + 1:])"
   ]
  }
 ],
 "metadata": {
  "interpreter": {
   "hash": "ad5b722e30293428b76bd648944f3a0c597500c9ffc8ca7f828a7eaa5f9aa45f"
  },
  "kernelspec": {
   "display_name": "Python 3.10.2 64-bit",
   "language": "python",
   "name": "python3"
  },
  "language_info": {
   "codemirror_mode": {
    "name": "ipython",
    "version": 3
   },
   "file_extension": ".py",
   "mimetype": "text/x-python",
   "name": "python",
   "nbconvert_exporter": "python",
   "pygments_lexer": "ipython3",
   "version": "3.10.2"
  },
  "orig_nbformat": 4
 },
 "nbformat": 4,
 "nbformat_minor": 2
}
